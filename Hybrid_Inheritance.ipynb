{
  "nbformat": 4,
  "nbformat_minor": 0,
  "metadata": {
    "colab": {
      "provenance": []
    },
    "kernelspec": {
      "name": "python3",
      "display_name": "Python 3"
    },
    "language_info": {
      "name": "python"
    }
  },
  "cells": [
    {
      "cell_type": "code",
      "execution_count": 4,
      "metadata": {
        "colab": {
          "base_uri": "https://localhost:8080/"
        },
        "id": "iEhy32c35cxP",
        "outputId": "c60c6d10-be51-4a72-8d7a-fea141efc302"
      },
      "outputs": [
        {
          "output_type": "stream",
          "name": "stdout",
          "text": [
            "This is a Dog\n",
            "The animal makes a bark sound\n",
            "This dog's name is Buddy and breed is Labrador\n"
          ]
        }
      ],
      "source": [
        "# Base class\n",
        "class Animal:\n",
        "    def __init__(self, species):\n",
        "        self.species = species\n",
        "\n",
        "    def display_species(self):\n",
        "        print(f\"This is a {self.species}\")\n",
        "\n",
        "# Another base class\n",
        "class SoundMaker:\n",
        "    def make_sound(self, sound):\n",
        "        print(f\"The animal makes a {sound} sound\")\n",
        "\n",
        "# Class Dog inherits from Animal and SoundMaker\n",
        "class Dog(Animal, SoundMaker):\n",
        "    def __init__(self, name, breed):\n",
        "        Animal.__init__(self, \"Dog\")\n",
        "        self.name = name\n",
        "        self.breed = breed\n",
        "\n",
        "    def display(self):\n",
        "        print(f\"This dog's name is {self.name} and breed is {self.breed}\")\n",
        "\n",
        "# Creating an instance of Dog and testing the methods\n",
        "dog = Dog(\"Buddy\", \"Labrador\")\n",
        "dog.display_species()\n",
        "dog.make_sound(\"bark\")\n",
        "dog.display()\n",
        "\n"
      ]
    }
  ]
}